{
 "cells": [
  {
   "cell_type": "code",
   "execution_count": 1,
   "id": "248cf4ba",
   "metadata": {},
   "outputs": [],
   "source": [
    "import basefunctions"
   ]
  },
  {
   "cell_type": "code",
   "execution_count": 10,
   "id": "281bd677",
   "metadata": {},
   "outputs": [],
   "source": [
    "@basefunctions.log_args_names\n",
    "def test(a,b,c):\n",
    "    print(a,b,c)\n",
    "    "
   ]
  },
  {
   "cell_type": "code",
   "execution_count": 11,
   "id": "6715a100",
   "metadata": {},
   "outputs": [
    {
     "name": "stdout",
     "output_type": "stream",
     "text": [
      "🔍 Args: {'a': 'a', 'b': 'b', 'c': None}\n",
      "🔍 Kwargs: {}\n",
      "a b None\n"
     ]
    }
   ],
   "source": [
    "test(\"a\",\"b\", None)"
   ]
  }
 ],
 "metadata": {
  "kernelspec": {
   "display_name": ".venv",
   "language": "python",
   "name": "python3"
  },
  "language_info": {
   "codemirror_mode": {
    "name": "ipython",
    "version": 3
   },
   "file_extension": ".py",
   "mimetype": "text/x-python",
   "name": "python",
   "nbconvert_exporter": "python",
   "pygments_lexer": "ipython3",
   "version": "3.12.9"
  }
 },
 "nbformat": 4,
 "nbformat_minor": 5
}
